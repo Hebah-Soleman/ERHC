{
 "cells": [
  {
   "cell_type": "code",
   "execution_count": null,
   "id": "7babe689",
   "metadata": {},
   "outputs": [],
   "source": [
    "from SoccerNet.Downloader import SoccerNetDownloader\n",
    "d = SoccerNetDownloader(LocalDirectory=\"SoccerNet\")\n",
    "d.downloadGames(files=[\"Labels-v2.json\",\"Labels-cameras.json\"], split=[\"train\",\"valid\",\"test\"])"
   ]
  },
  {
   "cell_type": "code",
   "execution_count": null,
   "id": "98e5f3ca",
   "metadata": {},
   "outputs": [],
   "source": [
    "import json\n",
    "from moviepy.editor import VideoFileClip\n",
    "import os \n",
    "\n",
    "# Parameters\n",
    "VIDEO_PATH = \"soccer.mp4\"\n",
    "JSON_PATH = \"/Users/hebah/Documents/KAUST/STATS/ASRG/sn-spotting/Benchmarks/CALF/inference/outputs/Predictions-v2.json\"\n",
    "OUTPUT_DIR = \"clips2/\"\n",
    "BEFORE = 5  # seconds before the event\n",
    "AFTER = 5   # seconds after the event\n",
    "\n",
    "# Labels we care about\n",
    "TARGET_LABELS = {\n",
    "    \"Goal\",\n",
    "    \"Penalty\",\n",
    "    \"Foul\",\n",
    "    \"Shot on target\",\n",
    "    \"Red card\",\n",
    "    \"Yellow card\",\n",
    "    \"Direct free kick\",\n",
    "}\n",
    "\n",
    "# Make sure output directory exists\n",
    "os.makedirs(OUTPUT_DIR, exist_ok=True)\n",
    "\n",
    "# Load predictions\n",
    "with open(JSON_PATH, \"r\") as f:\n",
    "    data = json.load(f)\n",
    "\n",
    "predictions = data[\"predictions\"]\n",
    "\n",
    "# Load video\n",
    "video = VideoFileClip(VIDEO_PATH)\n",
    "\n",
    "for i, pred in enumerate(predictions):\n",
    "    label = pred[\"label\"]\n",
    "\n",
    "    # Skip labels we don't care about\n",
    "    if label not in TARGET_LABELS:\n",
    "        continue\n",
    "\n",
    "    # Get event time in seconds\n",
    "    event_time = int(pred[\"position\"]) / 1000.0  \n",
    "\n",
    "    # Define clip boundaries\n",
    "    start = max(0, event_time - BEFORE)\n",
    "    end = min(video.duration, event_time + AFTER)\n",
    "    \n",
    "    # Cut clip\n",
    "    subclip = video.subclip(start, end)\n",
    "    \n",
    "    # Define output filename\n",
    "    safe_label = label.replace(\" \", \"_\")\n",
    "    output_path = f\"{OUTPUT_DIR}event_{i+1}_{safe_label}.mp4\"\n",
    "    \n",
    "    # Save\n",
    "    subclip.write_videofile(output_path, codec=\"libx264\", audio_codec=\"aac\")\n",
    "\n",
    "video.close()"
   ]
  }
 ],
 "metadata": {
  "kernelspec": {
   "display_name": "venv",
   "language": "python",
   "name": "python3"
  },
  "language_info": {
   "codemirror_mode": {
    "name": "ipython",
    "version": 3
   },
   "file_extension": ".py",
   "mimetype": "text/x-python",
   "name": "python",
   "nbconvert_exporter": "python",
   "pygments_lexer": "ipython3",
   "version": "3.13.5"
  }
 },
 "nbformat": 4,
 "nbformat_minor": 5
}
